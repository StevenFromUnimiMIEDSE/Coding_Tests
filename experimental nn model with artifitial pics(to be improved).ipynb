{
  "nbformat": 4,
  "nbformat_minor": 0,
  "metadata": {
    "colab": {
      "provenance": [],
      "authorship_tag": "ABX9TyOzAFy+KtjUMvnBrPnNCpHQ",
      "include_colab_link": true
    },
    "kernelspec": {
      "name": "python3",
      "display_name": "Python 3"
    },
    "language_info": {
      "name": "python"
    }
  },
  "cells": [
    {
      "cell_type": "markdown",
      "metadata": {
        "id": "view-in-github",
        "colab_type": "text"
      },
      "source": [
        "<a href=\"https://colab.research.google.com/github/wangjiansuperagain/Unimi-DSE-Machine-Learning-Project/blob/main/experimental%20nn%20model%20with%20artifitial%20pics(to%20be%20improved).ipynb\" target=\"_parent\"><img src=\"https://colab.research.google.com/assets/colab-badge.svg\" alt=\"Open In Colab\"/></a>"
      ]
    },
    {
      "cell_type": "markdown",
      "source": [],
      "metadata": {
        "id": "4Zcz9NYL0MEu"
      }
    },
    {
      "cell_type": "code",
      "execution_count": 2,
      "metadata": {
        "id": "5Ey9E0ejz8_k"
      },
      "outputs": [],
      "source": [
        "import numpy as np\n",
        "from tensorflow import keras\n",
        "from tensorflow.keras import layers\n"
      ]
    },
    {
      "cell_type": "markdown",
      "source": [],
      "metadata": {
        "id": "9drnp2bA0Mra"
      }
    },
    {
      "cell_type": "code",
      "source": [
        "(x_train, y_train), (x_test, y_test) = keras.datasets.mnist.load_data()\n",
        "num_classes = 10  # There are 10 digits (0 to 9)\n",
        "input_shape = (28, 28, 1)  # MNIST images are 28x28 pixels\n",
        "\n",
        "# Scale images to the [0, 1] range\n",
        "x_train = x_train.astype(\"float32\") / 255\n",
        "x_test = x_test.astype(\"float32\") / 255\n",
        "# Make sure images have shape (28, 28, 1)\n",
        "x_train = np.expand_dims(x_train, -1)\n",
        "x_test = np.expand_dims(x_test, -1)\n",
        "\n",
        "# Convert class vectors to binary class matrices\n",
        "y_train = keras.utils.to_categorical(y_train, num_classes)\n",
        "y_test = keras.utils.to_categorical(y_test, num_classes)\n"
      ],
      "metadata": {
        "colab": {
          "base_uri": "https://localhost:8080/"
        },
        "id": "FrmYImtm0NAA",
        "outputId": "76f89fbb-723c-4907-ef61-0da3e89451fe"
      },
      "execution_count": 3,
      "outputs": [
        {
          "output_type": "stream",
          "name": "stdout",
          "text": [
            "Downloading data from https://storage.googleapis.com/tensorflow/tf-keras-datasets/mnist.npz\n",
            "11490434/11490434 [==============================] - 0s 0us/step\n"
          ]
        }
      ]
    },
    {
      "cell_type": "markdown",
      "source": [],
      "metadata": {
        "id": "2LKRk00c0NP2"
      }
    },
    {
      "cell_type": "code",
      "source": [
        "model = keras.Sequential(\n",
        "    [\n",
        "        keras.Input(shape=input_shape),\n",
        "        layers.Conv2D(32, kernel_size=(3, 3), activation=\"relu\"),\n",
        "        layers.MaxPooling2D(pool_size=(2, 2)),\n",
        "        layers.Conv2D(64, kernel_size=(3, 3), activation=\"relu\"),\n",
        "        layers.MaxPooling2D(pool_size=(2, 2)),\n",
        "        layers.Flatten(),\n",
        "        layers.Dropout(0.5),\n",
        "        layers.Dense(num_classes, activation=\"softmax\"),\n",
        "    ]\n",
        ")\n"
      ],
      "metadata": {
        "id": "jC4BTz9J0Nn6"
      },
      "execution_count": 4,
      "outputs": []
    },
    {
      "cell_type": "markdown",
      "source": [],
      "metadata": {
        "id": "0AUB9wU_0N2w"
      }
    },
    {
      "cell_type": "code",
      "source": [
        "model.compile(loss=\"categorical_crossentropy\", optimizer=\"adam\", metrics=[\"accuracy\"])\n"
      ],
      "metadata": {
        "id": "GI4wzB3u0OId"
      },
      "execution_count": 5,
      "outputs": []
    },
    {
      "cell_type": "markdown",
      "source": [],
      "metadata": {
        "id": "BZlClNmP0Tid"
      }
    },
    {
      "cell_type": "code",
      "source": [
        "batch_size = 128\n",
        "epochs = 15\n",
        "\n",
        "model.fit(x_train, y_train, batch_size=batch_size, epochs=epochs, validation_split=0.1)\n"
      ],
      "metadata": {
        "colab": {
          "base_uri": "https://localhost:8080/"
        },
        "id": "Twme_Ph30T2T",
        "outputId": "2abb82bc-4f6e-4579-ed11-2327c21cb574"
      },
      "execution_count": 6,
      "outputs": [
        {
          "output_type": "stream",
          "name": "stdout",
          "text": [
            "Epoch 1/15\n",
            "422/422 [==============================] - 43s 99ms/step - loss: 0.3752 - accuracy: 0.8830 - val_loss: 0.0836 - val_accuracy: 0.9785\n",
            "Epoch 2/15\n",
            "422/422 [==============================] - 40s 96ms/step - loss: 0.1124 - accuracy: 0.9656 - val_loss: 0.0528 - val_accuracy: 0.9860\n",
            "Epoch 3/15\n",
            "422/422 [==============================] - 41s 97ms/step - loss: 0.0845 - accuracy: 0.9739 - val_loss: 0.0452 - val_accuracy: 0.9875\n",
            "Epoch 4/15\n",
            "422/422 [==============================] - 40s 94ms/step - loss: 0.0688 - accuracy: 0.9784 - val_loss: 0.0415 - val_accuracy: 0.9903\n",
            "Epoch 5/15\n",
            "422/422 [==============================] - 40s 94ms/step - loss: 0.0616 - accuracy: 0.9807 - val_loss: 0.0381 - val_accuracy: 0.9908\n",
            "Epoch 6/15\n",
            "422/422 [==============================] - 41s 96ms/step - loss: 0.0546 - accuracy: 0.9827 - val_loss: 0.0345 - val_accuracy: 0.9910\n",
            "Epoch 7/15\n",
            "422/422 [==============================] - 41s 97ms/step - loss: 0.0515 - accuracy: 0.9842 - val_loss: 0.0353 - val_accuracy: 0.9888\n",
            "Epoch 8/15\n",
            "422/422 [==============================] - 40s 95ms/step - loss: 0.0468 - accuracy: 0.9855 - val_loss: 0.0327 - val_accuracy: 0.9908\n",
            "Epoch 9/15\n",
            "422/422 [==============================] - 42s 99ms/step - loss: 0.0448 - accuracy: 0.9861 - val_loss: 0.0330 - val_accuracy: 0.9907\n",
            "Epoch 10/15\n",
            "422/422 [==============================] - 41s 96ms/step - loss: 0.0413 - accuracy: 0.9870 - val_loss: 0.0316 - val_accuracy: 0.9913\n",
            "Epoch 11/15\n",
            "422/422 [==============================] - 40s 96ms/step - loss: 0.0390 - accuracy: 0.9876 - val_loss: 0.0320 - val_accuracy: 0.9910\n",
            "Epoch 12/15\n",
            "422/422 [==============================] - 41s 97ms/step - loss: 0.0386 - accuracy: 0.9875 - val_loss: 0.0324 - val_accuracy: 0.9905\n",
            "Epoch 13/15\n",
            "422/422 [==============================] - 40s 95ms/step - loss: 0.0367 - accuracy: 0.9885 - val_loss: 0.0321 - val_accuracy: 0.9897\n",
            "Epoch 14/15\n",
            "422/422 [==============================] - 40s 95ms/step - loss: 0.0333 - accuracy: 0.9889 - val_loss: 0.0324 - val_accuracy: 0.9908\n",
            "Epoch 15/15\n",
            "422/422 [==============================] - 42s 99ms/step - loss: 0.0318 - accuracy: 0.9896 - val_loss: 0.0317 - val_accuracy: 0.9913\n"
          ]
        },
        {
          "output_type": "execute_result",
          "data": {
            "text/plain": [
              "<keras.src.callbacks.History at 0x79b299d9a9e0>"
            ]
          },
          "metadata": {},
          "execution_count": 6
        }
      ]
    },
    {
      "cell_type": "markdown",
      "source": [],
      "metadata": {
        "id": "iUKuXc_N0UGd"
      }
    },
    {
      "cell_type": "code",
      "source": [
        "score = model.evaluate(x_test, y_test, verbose=0)\n",
        "print(\"Test loss:\", score[0])\n",
        "print(\"Test accuracy:\", score[1])\n"
      ],
      "metadata": {
        "colab": {
          "base_uri": "https://localhost:8080/"
        },
        "id": "fW-ybu4F0UaT",
        "outputId": "7ef02081-6f9b-4167-9e20-837003f28627"
      },
      "execution_count": 7,
      "outputs": [
        {
          "output_type": "stream",
          "name": "stdout",
          "text": [
            "Test loss: 0.027515918016433716\n",
            "Test accuracy: 0.9919000267982483\n"
          ]
        }
      ]
    },
    {
      "cell_type": "markdown",
      "source": [
        "\n",
        "\n",
        "Prepare the new data: This data should be formatted in the same way as your training and testing data. If it's an image, for example, it should be 28x28 pixels, grayscale, and normalized (values between 0 and 1). Here's how you might prepare a single new image:\n"
      ],
      "metadata": {
        "id": "lBanHwPs0Xcb"
      }
    },
    {
      "cell_type": "markdown",
      "source": [
        "Using an Image from the MNIST Dataset\n"
      ],
      "metadata": {
        "id": "PuFimoe54Snd"
      }
    },
    {
      "cell_type": "code",
      "source": [
        "# Selecting an example from the test set\n",
        "example_idx = 13  # Change this to select a different image\n",
        "example_image = x_test[example_idx]\n",
        "example_label = y_test[example_idx]\n",
        "\n",
        "# Prepare the image\n",
        "example_image_prepared = example_image.reshape(-1, 28, 28, 1)  # Reshape for the model\n",
        "\n",
        "# Predict the class\n",
        "prediction = model.predict(example_image_prepared)\n",
        "predicted_class = np.argmax(prediction, axis=1)\n",
        "\n",
        "# Display the results\n",
        "import matplotlib.pyplot as plt\n",
        "plt.imshow(example_image.reshape(28, 28), cmap='gray')  # Reshape back to 2D image for plotting\n",
        "plt.title(f'Predicted: {predicted_class[0]}, Actual: {np.argmax(example_label)}')\n",
        "plt.show()\n"
      ],
      "metadata": {
        "colab": {
          "base_uri": "https://localhost:8080/",
          "height": 469
        },
        "id": "vQbi0PiA4S-e",
        "outputId": "ee973f6e-a886-4b40-bbdb-7100b78a7ee1"
      },
      "execution_count": 8,
      "outputs": [
        {
          "output_type": "stream",
          "name": "stdout",
          "text": [
            "1/1 [==============================] - 0s 120ms/step\n"
          ]
        },
        {
          "output_type": "display_data",
          "data": {
            "text/plain": [
              "<Figure size 640x480 with 1 Axes>"
            ],
            "image/png": "[encoded data removed]"
          },
          "metadata": {}
        }
      ]
    },
    {
      "cell_type": "markdown",
      "source": [
        "Creating a Synthetic Image\n"
      ],
      "metadata": {
        "id": "BGB5G37v4YCQ"
      }
    },
    {
      "cell_type": "code",
      "source": [
        "# Create a blank canvas\n",
        "synthetic_image = np.zeros((28, 28), dtype=np.float32)\n",
        "\n",
        "# Draw a simple shape, e.g., a diagonal line that might look like a sloppy 1 or 7\n",
        "for i in range(28):\n",
        "    synthetic_image[i, i] = 5  # This creates a diagonal line\n",
        "\n",
        "# Prepare the synthetic image for the model\n",
        "synthetic_image_prepared = synthetic_image.reshape(-1, 28, 28, 1) / 255  # Reshape and normalize\n",
        "\n",
        "# Predict the class\n",
        "prediction = model.predict(synthetic_image_prepared)\n",
        "predicted_class = np.argmax(prediction, axis=1)\n",
        "\n",
        "# Display the results\n",
        "plt.imshow(synthetic_image, cmap='gray')\n",
        "plt.title(f'Predicted: {predicted_class[0]}')\n",
        "plt.show()\n"
      ],
      "metadata": {
        "colab": {
          "base_uri": "https://localhost:8080/",
          "height": 469
        },
        "id": "Eqo8w0MM0Xx1",
        "outputId": "5d17e89c-5110-439b-dae1-3b035f089bff"
      },
      "execution_count": 11,
      "outputs": [
        {
          "output_type": "stream",
          "name": "stdout",
          "text": [
            "1/1 [==============================] - 0s 38ms/step\n"
          ]
        },
        {
          "output_type": "display_data",
          "data": {
            "text/plain": [
              "<Figure size 640x480 with 1 Axes>"
            ],
            "image/png": "[encoded data removed]"
          },
          "metadata": {}
        }
      ]
    },
    {
      "cell_type": "markdown",
      "source": [
        "Vertical Line (Mimicking \"1\"):\n"
      ],
      "metadata": {
        "id": "Zn4DXtdx5Wty"
      }
    },
    {
      "cell_type": "code",
      "source": [
        "# Create a blank canvas\n",
        "synthetic_image = np.zeros((28, 28), dtype=np.float32)\n",
        "\n",
        "# Draw a vertical line in the center\n",
        "for i in range(28):\n",
        "    synthetic_image[i, 14] = 1  # This creates a vertical line in the middle\n",
        "\n",
        "# Display the synthetic image\n",
        "plt.imshow(synthetic_image, cmap='gray')\n",
        "plt.show()\n"
      ],
      "metadata": {
        "colab": {
          "base_uri": "https://localhost:8080/",
          "height": 430
        },
        "id": "ezSZb7p-5XlL",
        "outputId": "ac58c323-75d9-41b1-801e-590ddae1bd00"
      },
      "execution_count": 12,
      "outputs": [
        {
          "output_type": "display_data",
          "data": {
            "text/plain": [
              "<Figure size 640x480 with 1 Axes>"
            ],
            "image/png": "[encoded data removed]"
          },
          "metadata": {}
        }
      ]
    },
    {
      "cell_type": "markdown",
      "source": [
        "Horizontal Line (Less common for digits but for experimentation):\n"
      ],
      "metadata": {
        "id": "PLSm_trb5YAd"
      }
    },
    {
      "cell_type": "code",
      "source": [
        "# Create a blank canvas\n",
        "synthetic_image = np.zeros((28, 28), dtype=np.float32)\n",
        "\n",
        "# Draw a horizontal line in the middle\n",
        "for i in range(28):\n",
        "    synthetic_image[14, i] = 1  # This creates a horizontal line at the center\n",
        "\n",
        "# Display the synthetic image\n",
        "plt.imshow(synthetic_image, cmap='gray')\n",
        "plt.show()\n"
      ],
      "metadata": {
        "colab": {
          "base_uri": "https://localhost:8080/",
          "height": 430
        },
        "id": "uU0rDd9q5YSF",
        "outputId": "f185be29-bd9a-4242-db0c-2826713c51b9"
      },
      "execution_count": 16,
      "outputs": [
        {
          "output_type": "display_data",
          "data": {
            "text/plain": [
              "<Figure size 640x480 with 1 Axes>"
            ],
            "image/png": "[encoded data removed]"
          },
          "metadata": {}
        }
      ]
    },
    {
      "cell_type": "markdown",
      "source": [
        "Circle (Mimicking \"0\"):\n"
      ],
      "metadata": {
        "id": "CBRZV6P75Yis"
      }
    },
    {
      "cell_type": "code",
      "source": [
        "# Create a blank canvas\n",
        "synthetic_image = np.zeros((28, 28), dtype=np.float32)\n",
        "\n",
        "# Draw a rough circle\n",
        "center, radius = (14, 14), 8  # Center and radius of circle\n",
        "for y in range(28):\n",
        "    for x in range(28):\n",
        "        if (x - center[0]) ** 2 + (y - center[1]) ** 2 < radius ** 2:\n",
        "            synthetic_image[y, x] = 1\n",
        "\n",
        "# Display the synthetic image\n",
        "plt.imshow(synthetic_image, cmap='gray')\n",
        "plt.show()\n"
      ],
      "metadata": {
        "colab": {
          "base_uri": "https://localhost:8080/",
          "height": 430
        },
        "id": "4H4WBXGI5Y62",
        "outputId": "6c089689-ceeb-45f3-b7f2-b5b7aed8a179"
      },
      "execution_count": 18,
      "outputs": [
        {
          "output_type": "display_data",
          "data": {
            "text/plain": [
              "<Figure size 640x480 with 1 Axes>"
            ],
            "image/png": "[encoded data removed]"
          },
          "metadata": {}
        }
      ]
    },
    {
      "cell_type": "markdown",
      "source": [
        "Custom Shapes:\n"
      ],
      "metadata": {
        "id": "m9I3tttc5onE"
      }
    },
    {
      "cell_type": "code",
      "source": [
        "# Normalize and reshape\n",
        "synthetic_image_prepared = synthetic_image.reshape(-1, 28, 28, 1) / 255\n",
        "\n",
        "# Predict with your model\n",
        "prediction = model.predict(synthetic_image_prepared)\n",
        "predicted_class = np.argmax(prediction, axis=1)\n",
        "\n",
        "# Print the predicted class\n",
        "print('Predicted class:', predicted_class[0])\n"
      ],
      "metadata": {
        "colab": {
          "base_uri": "https://localhost:8080/"
        },
        "id": "ufTmqBse5pBl",
        "outputId": "2bc9c207-7140-434d-ad47-1517ba68ae2b"
      },
      "execution_count": 19,
      "outputs": [
        {
          "output_type": "stream",
          "name": "stdout",
          "text": [
            "1/1 [==============================] - 0s 21ms/step\n",
            "Predicted class: 1\n"
          ]
        }
      ]
    },
    {
      "cell_type": "markdown",
      "source": [
        "Make predictions: Use the predict method of your model to get the predictions. This method returns the probabilities that the new data belongs to each class.\n",
        "\n"
      ],
      "metadata": {
        "id": "QMZvdRSt4DjV"
      }
    },
    {
      "cell_type": "code",
      "source": [
        "predictions = model.predict(new_image)\n"
      ],
      "metadata": {
        "id": "2OPLVojb4D5W"
      },
      "execution_count": null,
      "outputs": []
    },
    {
      "cell_type": "markdown",
      "source": [],
      "metadata": {
        "id": "_w5iBpak4Gx2"
      }
    },
    {
      "cell_type": "code",
      "source": [
        "predicted_class = np.argmax(predictions, axis=1)\n",
        "print(\"Predicted class:\", predicted_class)\n"
      ],
      "metadata": {
        "id": "I0hT6f-P4HEk"
      },
      "execution_count": null,
      "outputs": []
    },
    {
      "cell_type": "markdown",
      "source": [
        "Interpret the result: The value of predicted_class is the digit that the model predicts the image represents. Compare this with the actual value, if available, to see if the prediction was correct.\n",
        "\n"
      ],
      "metadata": {
        "id": "HG5tGX604J3i"
      }
    },
    {
      "cell_type": "code",
      "source": [],
      "metadata": {
        "id": "xudNHzaK4KNm"
      },
      "execution_count": null,
      "outputs": []
    }
  ]
}