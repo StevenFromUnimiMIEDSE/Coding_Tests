{
  "nbformat": 4,
  "nbformat_minor": 0,
  "metadata": {
    "colab": {
      "provenance": [],
      "authorship_tag": "ABX9TyNl50BWifU2cp4g4b+OkiK6",
      "include_colab_link": true
    },
    "kernelspec": {
      "name": "python3",
      "display_name": "Python 3"
    },
    "language_info": {
      "name": "python"
    }
  },
  "cells": [
    {
      "cell_type": "markdown",
      "metadata": {
        "id": "view-in-github",
        "colab_type": "text"
      },
      "source": [
        "<a href=\"https://colab.research.google.com/github/wangjiansuperagain/Unimi-DSE-Machine-Learning-Project/blob/main/experimental%20NN%20model.ipynb\" target=\"_parent\"><img src=\"https://colab.research.google.com/assets/colab-badge.svg\" alt=\"Open In Colab\"/></a>"
      ]
    },
    {
      "cell_type": "markdown",
      "source": [],
      "metadata": {
        "id": "4Zcz9NYL0MEu"
      }
    },
    {
      "cell_type": "code",
      "execution_count": 2,
      "metadata": {
        "id": "5Ey9E0ejz8_k"
      },
      "outputs": [],
      "source": [
        "import numpy as np\n",
        "from tensorflow import keras\n",
        "from tensorflow.keras import layers\n"
      ]
    },
    {
      "cell_type": "markdown",
      "source": [],
      "metadata": {
        "id": "9drnp2bA0Mra"
      }
    },
    {
      "cell_type": "code",
      "source": [
        "(x_train, y_train), (x_test, y_test) = keras.datasets.mnist.load_data()\n",
        "num_classes = 10  # There are 10 digits (0 to 9)\n",
        "input_shape = (28, 28, 1)  # MNIST images are 28x28 pixels\n",
        "\n",
        "# Scale images to the [0, 1] range\n",
        "x_train = x_train.astype(\"float32\") / 255\n",
        "x_test = x_test.astype(\"float32\") / 255\n",
        "# Make sure images have shape (28, 28, 1)\n",
        "x_train = np.expand_dims(x_train, -1)\n",
        "x_test = np.expand_dims(x_test, -1)\n",
        "\n",
        "# Convert class vectors to binary class matrices\n",
        "y_train = keras.utils.to_categorical(y_train, num_classes)\n",
        "y_test = keras.utils.to_categorical(y_test, num_classes)\n"
      ],
      "metadata": {
        "colab": {
          "base_uri": "https://localhost:8080/"
        },
        "id": "FrmYImtm0NAA",
        "outputId": "76f89fbb-723c-4907-ef61-0da3e89451fe"
      },
      "execution_count": 3,
      "outputs": [
        {
          "output_type": "stream",
          "name": "stdout",
          "text": [
            "Downloading data from https://storage.googleapis.com/tensorflow/tf-keras-datasets/mnist.npz\n",
            "11490434/11490434 [==============================] - 0s 0us/step\n"
          ]
        }
      ]
    },
    {
      "cell_type": "markdown",
      "source": [],
      "metadata": {
        "id": "2LKRk00c0NP2"
      }
    },
    {
      "cell_type": "code",
      "source": [
        "model = keras.Sequential(\n",
        "    [\n",
        "        keras.Input(shape=input_shape),\n",
        "        layers.Conv2D(32, kernel_size=(3, 3), activation=\"relu\"),\n",
        "        layers.MaxPooling2D(pool_size=(2, 2)),\n",
        "        layers.Conv2D(64, kernel_size=(3, 3), activation=\"relu\"),\n",
        "        layers.MaxPooling2D(pool_size=(2, 2)),\n",
        "        layers.Flatten(),\n",
        "        layers.Dropout(0.5),\n",
        "        layers.Dense(num_classes, activation=\"softmax\"),\n",
        "    ]\n",
        ")\n"
      ],
      "metadata": {
        "id": "jC4BTz9J0Nn6"
      },
      "execution_count": 4,
      "outputs": []
    },
    {
      "cell_type": "markdown",
      "source": [],
      "metadata": {
        "id": "0AUB9wU_0N2w"
      }
    },
    {
      "cell_type": "code",
      "source": [
        "model.compile(loss=\"categorical_crossentropy\", optimizer=\"adam\", metrics=[\"accuracy\"])\n"
      ],
      "metadata": {
        "id": "GI4wzB3u0OId"
      },
      "execution_count": 5,
      "outputs": []
    },
    {
      "cell_type": "markdown",
      "source": [],
      "metadata": {
        "id": "BZlClNmP0Tid"
      }
    },
    {
      "cell_type": "code",
      "source": [
        "batch_size = 128\n",
        "epochs = 15\n",
        "\n",
        "model.fit(x_train, y_train, batch_size=batch_size, epochs=epochs, validation_split=0.1)\n"
      ],
      "metadata": {
        "colab": {
          "base_uri": "https://localhost:8080/"
        },
        "id": "Twme_Ph30T2T",
        "outputId": "2abb82bc-4f6e-4579-ed11-2327c21cb574"
      },
      "execution_count": 6,
      "outputs": [
        {
          "output_type": "stream",
          "name": "stdout",
          "text": [
            "Epoch 1/15\n",
            "422/422 [==============================] - 43s 99ms/step - loss: 0.3752 - accuracy: 0.8830 - val_loss: 0.0836 - val_accuracy: 0.9785\n",
            "Epoch 2/15\n",
            "422/422 [==============================] - 40s 96ms/step - loss: 0.1124 - accuracy: 0.9656 - val_loss: 0.0528 - val_accuracy: 0.9860\n",
            "Epoch 3/15\n",
            "422/422 [==============================] - 41s 97ms/step - loss: 0.0845 - accuracy: 0.9739 - val_loss: 0.0452 - val_accuracy: 0.9875\n",
            "Epoch 4/15\n",
            "422/422 [==============================] - 40s 94ms/step - loss: 0.0688 - accuracy: 0.9784 - val_loss: 0.0415 - val_accuracy: 0.9903\n",
            "Epoch 5/15\n",
            "422/422 [==============================] - 40s 94ms/step - loss: 0.0616 - accuracy: 0.9807 - val_loss: 0.0381 - val_accuracy: 0.9908\n",
            "Epoch 6/15\n",
            "422/422 [==============================] - 41s 96ms/step - loss: 0.0546 - accuracy: 0.9827 - val_loss: 0.0345 - val_accuracy: 0.9910\n",
            "Epoch 7/15\n",
            "422/422 [==============================] - 41s 97ms/step - loss: 0.0515 - accuracy: 0.9842 - val_loss: 0.0353 - val_accuracy: 0.9888\n",
            "Epoch 8/15\n",
            "422/422 [==============================] - 40s 95ms/step - loss: 0.0468 - accuracy: 0.9855 - val_loss: 0.0327 - val_accuracy: 0.9908\n",
            "Epoch 9/15\n",
            "422/422 [==============================] - 42s 99ms/step - loss: 0.0448 - accuracy: 0.9861 - val_loss: 0.0330 - val_accuracy: 0.9907\n",
            "Epoch 10/15\n",
            "422/422 [==============================] - 41s 96ms/step - loss: 0.0413 - accuracy: 0.9870 - val_loss: 0.0316 - val_accuracy: 0.9913\n",
            "Epoch 11/15\n",
            "422/422 [==============================] - 40s 96ms/step - loss: 0.0390 - accuracy: 0.9876 - val_loss: 0.0320 - val_accuracy: 0.9910\n",
            "Epoch 12/15\n",
            "422/422 [==============================] - 41s 97ms/step - loss: 0.0386 - accuracy: 0.9875 - val_loss: 0.0324 - val_accuracy: 0.9905\n",
            "Epoch 13/15\n",
            "422/422 [==============================] - 40s 95ms/step - loss: 0.0367 - accuracy: 0.9885 - val_loss: 0.0321 - val_accuracy: 0.9897\n",
            "Epoch 14/15\n",
            "422/422 [==============================] - 40s 95ms/step - loss: 0.0333 - accuracy: 0.9889 - val_loss: 0.0324 - val_accuracy: 0.9908\n",
            "Epoch 15/15\n",
            "422/422 [==============================] - 42s 99ms/step - loss: 0.0318 - accuracy: 0.9896 - val_loss: 0.0317 - val_accuracy: 0.9913\n"
          ]
        },
        {
          "output_type": "execute_result",
          "data": {
            "text/plain": [
              "<keras.src.callbacks.History at 0x79b299d9a9e0>"
            ]
          },
          "metadata": {},
          "execution_count": 6
        }
      ]
    },
    {
      "cell_type": "markdown",
      "source": [],
      "metadata": {
        "id": "iUKuXc_N0UGd"
      }
    },
    {
      "cell_type": "code",
      "source": [
        "score = model.evaluate(x_test, y_test, verbose=0)\n",
        "print(\"Test loss:\", score[0])\n",
        "print(\"Test accuracy:\", score[1])\n"
      ],
      "metadata": {
        "colab": {
          "base_uri": "https://localhost:8080/"
        },
        "id": "fW-ybu4F0UaT",
        "outputId": "7ef02081-6f9b-4167-9e20-837003f28627"
      },
      "execution_count": 7,
      "outputs": [
        {
          "output_type": "stream",
          "name": "stdout",
          "text": [
            "Test loss: 0.027515918016433716\n",
            "Test accuracy: 0.9919000267982483\n"
          ]
        }
      ]
    },
    {
      "cell_type": "markdown",
      "source": [],
      "metadata": {
        "id": "lBanHwPs0Xcb"
      }
    },
    {
      "cell_type": "code",
      "source": [],
      "metadata": {
        "id": "Eqo8w0MM0Xx1"
      },
      "execution_count": null,
      "outputs": []
    }
  ]
}