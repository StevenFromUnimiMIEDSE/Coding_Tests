{
  "nbformat": 4,
  "nbformat_minor": 0,
  "metadata": {
    "colab": {
      "provenance": [],
      "authorship_tag": "ABX9TyPUe8WHeQeLxfjRZF5aOiaA",
      "include_colab_link": true
    },
    "kernelspec": {
      "name": "python3",
      "display_name": "Python 3"
    },
    "language_info": {
      "name": "python"
    }
  },
  "cells": [
    {
      "cell_type": "markdown",
      "metadata": {
        "id": "view-in-github",
        "colab_type": "text"
      },
      "source": [
        "<a href=\"https://colab.research.google.com/github/wangjiansuperagain/Unimi-DSE-Machine-Learning-Project/blob/main/central%20bank%20lab%20record%202.ipynb\" target=\"_parent\"><img src=\"https://colab.research.google.com/assets/colab-badge.svg\" alt=\"Open In Colab\"/></a>"
      ]
    },
    {
      "cell_type": "markdown",
      "source": [
        "Parse the LEI (Legal Entity Identifier) codes provided in the dataset.\n",
        "Use the GLEIF API to retrieve the legal name, residence country, and ultimate parent (LEI and name) for each LEI code.\n",
        "Store the retrieved information in a pandas DataFrame."
      ],
      "metadata": {
        "id": "y-zB37ZL9yOZ"
      }
    },
    {
      "cell_type": "code",
      "source": [
        "!pip install requests pandas\n",
        "import requests\n",
        "import pandas as pd\n",
        "\n",
        "# LEI codes extracted from your screenshot\n",
        "lei_codes = [\n",
        "    \"5493001KJTIIGC8Y1R12\",\n",
        "    \"549300MGXI00YQIIH675\",\n",
        "    \"549300WVXPY22QQFGR37\",\n",
        "    \"549300Z4S8S0KM28HX55\",\n",
        "    \"549300D8F4O0KRIKBK08\"\n",
        "]\n",
        "\n",
        "# Base URL for GLEIF API\n",
        "base_url = \"https://api.gleif.org/api/v1/lei-records/\"\n",
        "\n",
        "# Initialize a list to store the data\n",
        "data = []\n",
        "\n",
        "# Loop through each LEI code to fetch the data\n",
        "for lei in lei_codes:\n",
        "    # Construct the request URL\n",
        "    url = f\"{base_url}{lei}\"\n",
        "    response = requests.get(url)\n",
        "\n",
        "    # Check if the request was successful\n",
        "    if response.status_code == 200:\n",
        "        json_data = response.json()\n",
        "        # Extract required fields\n",
        "        legal_name = json_data['data']['attributes']['legalName']['name']\n",
        "        country = json_data['data']['attributes']['entity']['legalAddress']['country']\n",
        "        ultimate_parent = json_data['data']['attributes'].get('relationshipRecord', {}).get('ultimateParent', {}).get('id', 'N/A')\n",
        "        ultimate_parent_name = json_data['data']['attributes'].get('relationshipRecord', {}).get('ultimateParent', {}).get('name', 'N/A')\n",
        "\n",
        "        # Append the extracted data to the list\n",
        "        data.append([lei, legal_name, country, ultimate_parent, ultimate_parent_name])\n",
        "    else:\n",
        "        print(f\"Failed to retrieve data for LEI: {lei}\")\n",
        "\n",
        "# Create a DataFrame\n",
        "df = pd.DataFrame(data, columns=['LEI', 'Legal Name', 'Country', 'Ultimate Parent LEI', 'Ultimate Parent Name'])\n",
        "\n",
        "# Display the DataFrame\n",
        "print(df)\n"
      ],
      "metadata": {
        "id": "iib0lXgM9ykL"
      },
      "execution_count": null,
      "outputs": []
    },
    {
      "cell_type": "markdown",
      "source": [
        "Notes:\n",
        "The code snippet assumes that the API endpoint and the JSON structure provided are correct. You may need to adjust the JSON parsing based on the actual API response.\n",
        "This code does not handle errors extensively, such as what to do if the API limit is reached or if there are network issues. You may want to add error handling depending on your needs.\n",
        "Ensure you have the necessary permissions or API keys if required by the GLEIF API for access.\n",
        "The LEI codes and the URL are based on your description. If the API's endpoint or parameters have changed, you'll need to update the URL accordingly."
      ],
      "metadata": {
        "id": "D23qWoSH9y8P"
      }
    },
    {
      "cell_type": "markdown",
      "source": [],
      "metadata": {
        "id": "zOnuyqnK97m1"
      }
    },
    {
      "cell_type": "code",
      "source": [
        "import requests\n",
        "import pandas as pd\n",
        "\n",
        "# LEI codes extracted from your screenshot\n",
        "lei_codes = [\n",
        "    \"5493001KJTIIGC8Y1R12\",\n",
        "    \"549300MGXI00YQIIH675\",\n",
        "    \"549300WVXPY22QQFGR37\",\n",
        "    \"549300Z4S8S0KM28HX55\",\n",
        "    \"549300D8F4O0KRIKBK08\"\n",
        "]\n",
        "\n",
        "# Base URL for GLEIF API\n",
        "base_url = \"https://api.gleif.org/api/v1/lei-records/\"\n",
        "\n",
        "# Initialize a list to store the data\n",
        "data = []\n",
        "\n",
        "# Loop through each LEI code to fetch the data\n",
        "for lei in lei_codes:\n",
        "    # Construct the request URL\n",
        "    url = f\"{base_url}{lei}\"\n",
        "    response = requests.get(url)\n",
        "\n",
        "    # Check if the request was successful\n",
        "    if response.status_code == 200:\n",
        "        json_data = response.json()\n",
        "\n",
        "        # Extract required fields using .get() to avoid KeyError\n",
        "        legal_name = json_data.get('data', {}).get('attributes', {}).get('legalName', {}).get('name', 'N/A')\n",
        "        country = json_data.get('data', {}).get('attributes', {}).get('entity', {}).get('legalAddress', {}).get('country', 'N/A')\n",
        "        ultimate_parent = json_data.get('data', {}).get('attributes', {}).get('relationshipRecord', {}).get('ultimateParent', {}).get('id', 'N/A')\n",
        "        ultimate_parent_name = json_data.get('data', {}).get('attributes', {}).get('relationshipRecord', {}).get('ultimateParent', {}).get('name', 'N/A')\n",
        "\n",
        "        # Append the extracted data to the list\n",
        "        data.append([lei, legal_name, country, ultimate_parent, ultimate_parent_name])\n",
        "    else:\n",
        "        print(f\"Failed to retrieve data for LEI: {lei}\")\n",
        "\n",
        "# Create a DataFrame\n",
        "df = pd.DataFrame(data, columns=['LEI', 'Legal Name', 'Country', 'Ultimate Parent LEI', 'Ultimate Parent Name'])\n",
        "\n",
        "# Display the DataFrame\n",
        "print(df)\n"
      ],
      "metadata": {
        "id": "jqLMG0vF9zQZ"
      },
      "execution_count": null,
      "outputs": []
    },
    {
      "cell_type": "markdown",
      "source": [
        "This version of the code uses .get() to safely access nested dictionaries and provides a default value of 'N/A' when the expected key is not found, which should prevent the KeyError from occurring. Remember to verify the actual structure of the JSON response from the API to ensure correct data extraction, as the paths used in the code are based on the assumed JSON structure which might not be accurate."
      ],
      "metadata": {
        "id": "dTphxKvr9zrb"
      }
    },
    {
      "cell_type": "markdown",
      "source": [
        "Since the documentation mentions the use of filters and other query parameters, here's a more targeted example assuming you want to retrieve detailed information for a single LEI:"
      ],
      "metadata": {
        "id": "hod3dCWu-RMv"
      }
    },
    {
      "cell_type": "code",
      "source": [
        "import requests\n",
        "import pandas as pd\n",
        "\n",
        "# Example LEI code\n",
        "lei_code = \"5493001KJTIIGC8Y1R12\"\n",
        "\n",
        "# Endpoint for LEI records\n",
        "url = f\"https://api.gleif.org/api/v1/lei-records/{lei_code}\"\n",
        "\n",
        "# Make the request\n",
        "response = requests.get(url)\n",
        "\n",
        "# Check if the request was successful\n",
        "if response.status_code == 200:\n",
        "    data = response.json()\n",
        "    # Assuming 'data' contains the necessary information in a structure based on the API documentation\n",
        "    # You may need to adjust the keys based on the actual structure\n",
        "    legal_name = data['data']['attributes']['legalName']['name']\n",
        "    country = data['data']['attributes']['entity']['legalAddress']['country']\n",
        "    # Ultimate parent information might require parsing related resources or additional fields\n",
        "    # This is a placeholder and needs adjustment based on actual API response structure\n",
        "    ultimate_parent = \"Placeholder for Ultimate Parent LEI and Name\"\n",
        "    print(f\"Legal Name: {legal_name}, Country: {country}, Ultimate Parent: {ultimate_parent}\")\n",
        "else:\n",
        "    print(f\"Failed to retrieve data for LEI: {lei_code}, Status Code: {response.status_code}\")\n"
      ],
      "metadata": {
        "id": "TX_3Rk4E-Shq"
      },
      "execution_count": null,
      "outputs": []
    },
    {
      "cell_type": "markdown",
      "source": [
        "Instantiate Constraints\n",
        "The first part of the code is about creating constraints. Each constraint is created by instantiating a Constraint class with specific parameters such as code, name, and other attributes depending on the type of constraint. The constraints shown are:\n",
        "\n",
        "Country Constraint: Ensures that the country value matches the ISO Country regex pattern.\n",
        "Name Constraint: Appears to allow any name without restrictions (no specific pattern or validation is mentioned).\n",
        "LEI Constraint: Limits the length of an LEI (Legal Entity Identifier) to a maximum of 20 characters."
      ],
      "metadata": {
        "id": "MXR6up9o-Bz9"
      }
    },
    {
      "cell_type": "code",
      "source": [
        "country_constraint = Constraint(code=\"COUNTRY_CONSTRAINT\", name=\"ISO Country Regex\", regex_pattern=\"[A-Za-z]{2}\")\n",
        "name_constraint = Constraint(code=\"NAME_CONSTRAINT\", name=\"No Constraint\")\n",
        "lei_constraint = Constraint(code=\"LEI_CONSTRAINT\", name=\"Max Length 20\", max_length=20)\n",
        "\n",
        "holder_lei_attribute = Attribute(code=\"HOLDER_LEI\", name=\"Holder LEI\", constraint=lei_constraint)\n",
        "name_attribute = Attribute(code=\"NAME\", name=\"Name\", constraint=name_constraint)\n",
        "country_attribute = Attribute(code=\"COUNTRY\", name=\"Country\", constraint=country_constraint)\n",
        "\n"
      ],
      "metadata": {
        "id": "nAMN4fCv9z99"
      },
      "execution_count": null,
      "outputs": []
    },
    {
      "cell_type": "markdown",
      "source": [
        "Instantiate the Companies Entity\n"
      ],
      "metadata": {
        "id": "tLrmZKDH-dXK"
      }
    },
    {
      "cell_type": "code",
      "source": [
        "companies_entity = Entity(\n",
        "    code=\"COMPANIES\",\n",
        "    name=\"Companies\",\n",
        "    description=\"Information about companies\",\n",
        "    author=\"author\",\n",
        "    version=\"1.0\",\n",
        "    valid_from=datetime.now()\n",
        ")\n"
      ],
      "metadata": {
        "id": "03MwVcTe-dxO"
      },
      "execution_count": null,
      "outputs": []
    },
    {
      "cell_type": "markdown",
      "source": [
        "Add Attributes to the Entity\n",
        "After defining the companies_entity, the code demonstrates how to add attributes to this entity using an add_attribute method. The attributes added are holder_lei_attribute, name_attribute, and country_attribute, which were instantiated in the previous step."
      ],
      "metadata": {
        "id": "M4WYGsyS-sgg"
      }
    },
    {
      "cell_type": "code",
      "source": [
        "companies_entity.add_attribute(holder_lei_attribute)\n",
        "companies_entity.add_attribute(name_attribute)\n",
        "companies_entity.add_attribute(country_attribute)\n"
      ],
      "metadata": {
        "id": "4OHwLksG-sy1"
      },
      "execution_count": null,
      "outputs": []
    },
    {
      "cell_type": "markdown",
      "source": [
        "Overview\n",
        "Entity Class: Represents a conceptual entity in the metadata model. In this case, companies_entity is an instance that describes companies with specific attributes.\n",
        "Attribute Association: Attributes are associated with the entity to define its characteristics. Each attribute (e.g., Holder LEI, Name, Country) is linked to the entity through the add_attribute method, effectively modeling the data structure for companies.\n",
        "Use of Datetime: The valid_from property is set using datetime.now(), indicating that the entity definition becomes valid from the current timestamp. This can be useful for versioning or historical data tracking.\n",
        "The code forms part of a larger system for metadata modeling and validation. By defining entities and their attributes, along with associated constraints, it's possible to create a robust framework for ensuring data integrity, facilitating data validation, and managing data definitions in a structured manner.\n",
        "\n",
        "This approach is particularly beneficial in scenarios where data needs to be well-defined, consistent, and adhere to specific rules or patterns, such as in databases, data exchange protocols, or information systems architecture."
      ],
      "metadata": {
        "id": "M8Lh--yP-vSh"
      }
    },
    {
      "cell_type": "markdown",
      "source": [
        "Retrival example"
      ],
      "metadata": {
        "id": "mecfd33z-5rK"
      }
    },
    {
      "cell_type": "markdown",
      "source": [
        "Step 1: Setup and Mock Data Retrieval Functions"
      ],
      "metadata": {
        "id": "ZXNtRfrt_LMX"
      }
    },
    {
      "cell_type": "code",
      "source": [
        "\n",
        "\n",
        "import requests\n",
        "import pandas as pd\n",
        "from datetime import datetime\n",
        "\n",
        "# Mock function to simulate API call to retrieve holder companies' information\n",
        "def get_holder_companies(lei):\n",
        "    \"\"\"Simulate an API call to get holder companies for a given LEI.\"\"\"\n",
        "    # This would be replaced with an actual API request, e.g.,\n",
        "    # response = requests.get(f'https://api.example.com/lei/{lei}/holders')\n",
        "    # For demonstration, we'll return a mock response\n",
        "    mock_response = [\n",
        "        {'lei': '1234567890ABCDEFGHIJ', 'legal_name': 'Company A', 'exposure_amount': 100000},\n",
        "        {'lei': 'ABCDEFGHIJ1234567890', 'legal_name': 'Company B', 'exposure_amount': 50000}\n",
        "    ]\n",
        "    return mock_response\n",
        "\n",
        "# Mock function to simulate API call to retrieve ultimate parent companies' information\n",
        "def get_ultimate_parents(lei_list):\n",
        "    \"\"\"Simulate an API call to get ultimate parent companies for a list of LEIs.\"\"\"\n",
        "    # This would involve actual API requests for each LEI in the list\n",
        "    mock_response = [\n",
        "        {'lei': 'ULTIMATE1234567890AB', 'legal_name': 'Ultimate Parent A', 'exposure_amount': 150000}\n",
        "    ]\n",
        "    return mock_response\n",
        "\n"
      ],
      "metadata": {
        "id": "nUKNMtnI-wD1"
      },
      "execution_count": null,
      "outputs": []
    },
    {
      "cell_type": "markdown",
      "source": [
        "Step 2: Retrieve Holder Companies\n"
      ],
      "metadata": {
        "id": "2RtumI6Q_NcX"
      }
    },
    {
      "cell_type": "code",
      "source": [
        "lei = '549300QKDHRYQQH2MB86'  # LEI of the company in question\n",
        "holder_companies = get_holder_companies(lei)\n",
        "\n",
        "# Convert the list of dictionaries to a DataFrame for easier manipulation\n",
        "holder_df = pd.DataFrame(holder_companies)\n",
        "print(\"Holder Companies:\")\n",
        "print(holder_df)\n"
      ],
      "metadata": {
        "id": "6b_fC2JW_N51"
      },
      "execution_count": null,
      "outputs": []
    },
    {
      "cell_type": "markdown",
      "source": [
        "Step 3: Retrieve Ultimate Parent Companies\n"
      ],
      "metadata": {
        "id": "gDTnb-7E_O4H"
      }
    },
    {
      "cell_type": "code",
      "source": [
        "# Assuming the ultimate parent(s) need to be found for the holder companies\n",
        "holder_leis = holder_df['lei'].tolist()\n",
        "ultimate_parents = get_ultimate_parents(holder_leis)\n",
        "\n",
        "# Convert to DataFrame\n",
        "ultimate_parents_df = pd.DataFrame(ultimate_parents)\n",
        "print(\"\\nUltimate Parent Companies:\")\n",
        "print(ultimate_parents_df)\n"
      ],
      "metadata": {
        "id": "KNY0Lmi1_PKZ"
      },
      "execution_count": null,
      "outputs": []
    },
    {
      "cell_type": "markdown",
      "source": [],
      "metadata": {
        "id": "eDH8d9Ik_Efs"
      }
    },
    {
      "cell_type": "markdown",
      "source": [
        "1. Metadata Modeling and Validation\n",
        "This code snippet is about defining constraints and attributes for a metadata model, focusing on creating instances of constraints and attributes, and then associating these attributes with entities."
      ],
      "metadata": {
        "id": "iGngz0bR9cVE"
      }
    },
    {
      "cell_type": "code",
      "execution_count": null,
      "metadata": {
        "id": "H9RkhzdL8wz4"
      },
      "outputs": [],
      "source": [
        "class Constraint:\n",
        "    # Example constraint class definition\n",
        "    pass\n",
        "\n",
        "class Attribute:\n",
        "    # Example attribute class definition\n",
        "    pass\n",
        "\n",
        "class Entity:\n",
        "    # Example entity class definition\n",
        "    def add_attribute(self, attribute):\n",
        "        # Method to add an attribute to the entity\n",
        "        pass\n",
        "\n",
        "# Instantiate Constraints\n",
        "country_constraint = Constraint(\"COUNTRY_CONSTRAINT\", \"ISO Country Regex\", \"[A-Za-z]{2}\")\n",
        "name_constraint = Constraint(\"NAME_CONSTRAINT\", \"No Constraint\")\n",
        "lei_constraint = Constraint(\"LEI_CONSTRAINT\", \"Max Length 20\", 20)\n",
        "\n",
        "# Instantiate Attributes\n",
        "holder_lei_attribute = Attribute(\"HOLDER_LEI\", \"Holder LEI\", lei_constraint)\n",
        "name_attribute = Attribute(\"NAME\", \"Name\", name_constraint)\n",
        "country_attribute = Attribute(\"COUNTRY\", \"Country\", country_constraint)\n",
        "\n",
        "# Instantiate the companies Entity\n",
        "companies_entity = Entity(\"COMPANIES\", \"Companies\", \"Information about companies\", \"1.0\", datetime.now())\n",
        "companies_entity.add_attribute(holder_lei_attribute)\n",
        "companies_entity.add_attribute(name_attribute)\n",
        "companies_entity.add_attribute(country_attribute)\n"
      ]
    },
    {
      "cell_type": "markdown",
      "source": [
        "2. Financial Market Analysis Scenario\n",
        "This code snippet is a conceptual outline for a financial analysis scenario, focusing on identifying holder and ultimate parent companies exposed due to a company's financial struggles. It uses mock functions to simulate data retrieval, which in practice would require real API calls."
      ],
      "metadata": {
        "id": "c5Koz1Fk9fE3"
      }
    },
    {
      "cell_type": "code",
      "source": [
        "import pandas as pd\n",
        "from datetime import datetime\n",
        "\n",
        "def get_holder_companies(lei):\n",
        "    # Mock function to simulate getting holder companies\n",
        "    return [\n",
        "        {'lei': '1234567890ABCDEFGHIJ', 'legal_name': 'Company A', 'exposure_amount': 100000},\n",
        "        {'lei': 'ABCDEFGHIJ1234567890', 'legal_name': 'Company B', 'exposure_amount': 50000}\n",
        "    ]\n",
        "\n",
        "def get_ultimate_parents(lei_list):\n",
        "    # Mock function to simulate getting ultimate parent companies\n",
        "    return [\n",
        "        {'lei': 'ULTIMATE1234567890AB', 'legal_name': 'Ultimate Parent A', 'exposure_amount': 150000}\n",
        "    ]\n",
        "\n",
        "# Usage of the above functions to retrieve and process data\n",
        "lei = '549300QKDHRYQQH2MB86'\n",
        "holder_companies = get_holder_companies(lei)\n",
        "holder_df = pd.DataFrame(holder_companies)\n",
        "\n",
        "holder_leis = holder_df['lei'].tolist()\n",
        "ultimate_parents = get_ultimate_parents(holder_leis)\n",
        "ultimate_parents_df = pd.DataFrame(ultimate_parents)\n"
      ],
      "metadata": {
        "id": "OBAKofRU9fVj"
      },
      "execution_count": null,
      "outputs": []
    },
    {
      "cell_type": "markdown",
      "source": [
        "Comparison:\n",
        "Application Focus: The first code snippet is aimed at metadata modeling, defining a structure for data entities, attributes, and constraints within a system. The second snippet addresses a financial analysis scenario, specifically identifying exposure risks associated with a company's financial struggles.\n",
        "Data Handling: Both snippets involve creating and manipulating data structures, but they serve different purposes. The metadata modeling code sets up a framework for data validation and organization, while the financial analysis code focuses on aggregating and analyzing financial exposure data.\n",
        "Complexity and Real-world Application: The metadata modeling snippet outlines a foundational approach to data organization that can be applied across various domains. The financial analysis snippet, though conceptual and using mock data, points towards complex real-world applications involving financial data retrieval and risk analysis."
      ],
      "metadata": {
        "id": "oi7yz01b9iU2"
      }
    },
    {
      "cell_type": "code",
      "source": [],
      "metadata": {
        "id": "3EIN067Q9ikt"
      },
      "execution_count": null,
      "outputs": []
    }
  ]
}