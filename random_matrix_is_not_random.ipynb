{
  "nbformat": 4,
  "nbformat_minor": 0,
  "metadata": {
    "colab": {
      "provenance": [],
      "authorship_tag": "ABX9TyP3u7OCNcmYeHpk2Dx4+MeZ",
      "include_colab_link": true
    },
    "kernelspec": {
      "name": "python3",
      "display_name": "Python 3"
    },
    "language_info": {
      "name": "python"
    }
  },
  "cells": [
    {
      "cell_type": "markdown",
      "metadata": {
        "id": "view-in-github",
        "colab_type": "text"
      },
      "source": [
        "<a href=\"https://colab.research.google.com/github/StevenFromUnimiMIEDSE/Coding_Tests/blob/main/random_matrix_is_not_random.ipynb\" target=\"_parent\"><img src=\"https://colab.research.google.com/assets/colab-badge.svg\" alt=\"Open In Colab\"/></a>"
      ]
    },
    {
      "cell_type": "markdown",
      "source": [
        "python code to generate a group of random array, and prove that machine generated random arry is no actually 100% random, give me the code so I can run"
      ],
      "metadata": {
        "id": "iStPEH6HtTkx"
      }
    },
    {
      "cell_type": "markdown",
      "source": [],
      "metadata": {
        "id": "tr66LALGtWk6"
      }
    },
    {
      "cell_type": "markdown",
      "source": [
        "This code will generate 5 random arrays, each containing 10 random numbers between 0 and 1.\n",
        "\n",
        "To prove that these numbers are not truly random but pseudorandom, one simple way is to look at the seed mechanism. In the code above, the np.random.seed(0) line initializes the random number generator with a fixed state. This means that every time the program runs with the same seed, it will produce the same sequence of numbers. You can test this by running the program multiple times without changing the seed: you'll get the same arrays every time.\n",
        "\n",
        "In true randomness, like that observed in natural processes, there is no underlying deterministic algorithm, and the same initial conditions do not produce the same outcomes. But in pseudorandom number generators (PRNGs), like the one used by NumPy, the sequence of numbers is determined by the initial seed; thus, they are not truly random.\n",
        "\n",
        "Remove or change the np.random.seed(0) line and run the program multiple times to observe different outcomes. However, remember that different outcomes don't mean the process is truly random; it's just that the initial conditions (seed) have changed, leading to different sequences from the same deterministic algorithm.\n",
        "\n",
        "If you want to perform a statistical test to compare the distribution of the generated numbers to a truly random distribution, you would typically use tests like the Chi-Squared test, but that goes beyond simple demonstration and requires a good understanding of statistical methods."
      ],
      "metadata": {
        "id": "Xb9LZiLetXBk"
      }
    },
    {
      "cell_type": "markdown",
      "source": [
        "To extend the code for different tries and include a basic statistical test, we can use the Chi-squared test to compare the uniform distribution of our generated random numbers against an expected uniform distribution. This test will give us a more quantitative way to analyze the randomness. I'll provide the Python code which includes generating random arrays multiple times and then applying the Chi-squared test to one of the arrays to assess its randomness:"
      ],
      "metadata": {
        "id": "fCzW7a47taEk"
      }
    },
    {
      "cell_type": "code",
      "execution_count": 1,
      "metadata": {
        "colab": {
          "base_uri": "https://localhost:8080/"
        },
        "id": "FQuTg7xctESh",
        "outputId": "e4d23c3a-a52f-4366-aa4a-e063908f967c"
      },
      "outputs": [
        {
          "output_type": "stream",
          "name": "stdout",
          "text": [
            "Chi-squared statistic: 6.0\n",
            "P-value: 0.7399182920946538\n"
          ]
        }
      ],
      "source": [
        "import numpy as np\n",
        "from scipy.stats import chisquare\n",
        "\n",
        "# Function to generate random arrays\n",
        "def generate_random_arrays(num_arrays, array_length, seed=None):\n",
        "    # Creating a list to hold the arrays\n",
        "    random_arrays = []\n",
        "\n",
        "    # Generating the random arrays\n",
        "    for i in range(num_arrays):\n",
        "        # Seed for reproducibility, comment out for different results each time\n",
        "        np.random.seed(seed + i if seed is not None else None)\n",
        "\n",
        "        # Generate a random array and add it to the list\n",
        "        random_array = np.random.rand(array_length)\n",
        "        random_arrays.append(random_array)\n",
        "\n",
        "    return random_arrays\n",
        "\n",
        "# Function to perform the Chi-squared test on a single array\n",
        "def perform_chi_squared_test(random_array, num_bins=10):\n",
        "    # Creating a histogram of the random numbers\n",
        "    counts, _ = np.histogram(random_array, bins=np.linspace(0, 1, num_bins + 1))\n",
        "\n",
        "    # Expected count per bin if the numbers are uniformly distributed\n",
        "    expected_count = len(random_array) / num_bins\n",
        "\n",
        "    # Performing the Chi-squared test\n",
        "    chi_squared_stat, p_value = chisquare(counts, [expected_count] * num_bins)\n",
        "\n",
        "    return chi_squared_stat, p_value\n",
        "\n",
        "# Generate 5 trials of 10 random numbers each\n",
        "num_trials = 5\n",
        "array_length = 10\n",
        "random_arrays = generate_random_arrays(num_trials, array_length, seed=0)\n",
        "\n",
        "# Apply the Chi-squared test to the first generated array\n",
        "chi_squared_stat, p_value = perform_chi_squared_test(random_arrays[0])\n",
        "\n",
        "print(\"Chi-squared statistic:\", chi_squared_stat)\n",
        "print(\"P-value:\", p_value)\n"
      ]
    },
    {
      "cell_type": "markdown",
      "source": [
        "This code generates 5 different sets of random numbers (by changing the seed for each set), and then applies the Chi-squared test to the first set to check how well it fits a uniform distribution. If the p-value is high (typically higher than 0.05), it suggests that the distribution of the numbers is not significantly different from a uniform distribution, which is what we would expect if the numbers were truly random.\n",
        "\n",
        "However, remember that passing a single Chi-squared test does not conclusively prove randomness, as a pseudorandom number generator might still pass statistical tests yet have underlying predictable patterns. True randomness, especially in a cryptographic sense, requires more complex properties than just passing statistical tests for uniformity."
      ],
      "metadata": {
        "id": "XiWf2A94teMH"
      }
    },
    {
      "cell_type": "markdown",
      "source": [
        "The results from your Chi-squared test show a statistic of 6.0 and a p-value of approximately 0.74.\n",
        "\n",
        "Here's how to interpret these results:\n",
        "\n",
        "Chi-squared statistic: This value represents the difference between your observed frequencies (the counts of numbers in each bin of your histogram) and the expected frequencies for a uniform distribution. A lower value indicates that your observed frequencies are closer to what is expected for a truly random, uniform distribution.\n",
        "\n",
        "P-value: This is a measure of the probability that you would observe a chi-squared statistic as extreme as, or more extreme than, what you observed if the null hypothesis were true. In this context, the null hypothesis is that your random numbers are following a uniform distribution (i.e., they are random). A high p-value suggests that your observed distribution does not significantly differ from a uniform distribution.\n",
        "\n",
        "In your case, a p-value of 0.7399182920946538 (or about 74%) is quite high, indicating that there is no significant evidence to reject the null hypothesis. This means that, based on this test, your set of random numbers appears to be uniformly distributed and thus can be considered random in the context of this specific test.\n",
        "\n",
        "However, it's important to note a few things:\n",
        "\n",
        "Passing this test does not prove that your number generator is perfect or that it would pass all other randomness tests. It only means that in this instance, with this specific test, your numbers do not show significant deviations from what is expected in a uniform distribution.\n",
        "\n",
        "If you were using these numbers for something sensitive, like cryptographic purposes, you would need a more thorough analysis and likely a source of randomness designed specifically for cryptographic applications.\n",
        "\n",
        "Remember that because we are dealing with pseudorandom number generators (not true random), if you run the same code with the same initial seed, you will get the same results every time. True randomness would require a non-deterministic source.\n",
        "\n",
        "Therefore, while the test suggests your numbers are random in terms of uniform distribution, they are still generated by a deterministic algorithm and thus are pseudorandom. This distinction is crucial for applications where true randomness is necessary."
      ],
      "metadata": {
        "id": "LXgd4UBEtSi7"
      }
    }
  ]
}