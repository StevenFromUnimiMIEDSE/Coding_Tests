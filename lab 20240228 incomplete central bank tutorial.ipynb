{
  "nbformat": 4,
  "nbformat_minor": 0,
  "metadata": {
    "colab": {
      "provenance": [],
      "authorship_tag": "ABX9TyOpCuf4UjbORalnoMSZuwG5",
      "include_colab_link": true
    },
    "kernelspec": {
      "name": "python3",
      "display_name": "Python 3"
    },
    "language_info": {
      "name": "python"
    }
  },
  "cells": [
    {
      "cell_type": "markdown",
      "metadata": {
        "id": "view-in-github",
        "colab_type": "text"
      },
      "source": [
        "<a href=\"https://colab.research.google.com/github/wangjiansuperagain/Unimi-DSE-Machine-Learning-Project/blob/main/lab%2020240228%20incomplete%20central%20bank%20tutorial.ipynb\" target=\"_parent\"><img src=\"https://colab.research.google.com/assets/colab-badge.svg\" alt=\"Open In Colab\"/></a>"
      ]
    },
    {
      "cell_type": "markdown",
      "source": [
        "Lab 20240228 bank of italy"
      ],
      "metadata": {
        "id": "CYbZ3xo5kmxX"
      }
    },
    {
      "cell_type": "code",
      "execution_count": 1,
      "metadata": {
        "colab": {
          "base_uri": "https://localhost:8080/"
        },
        "id": "8Ff0xRPOkfnA",
        "outputId": "041731d6-ffe8-4815-c90f-d084991ae51a"
      },
      "outputs": [
        {
          "output_type": "stream",
          "name": "stdout",
          "text": [
            "Requirement already satisfied: requests in /usr/local/lib/python3.10/dist-packages (2.31.0)\n",
            "Requirement already satisfied: pandas in /usr/local/lib/python3.10/dist-packages (1.5.3)\n",
            "Requirement already satisfied: charset-normalizer<4,>=2 in /usr/local/lib/python3.10/dist-packages (from requests) (3.3.2)\n",
            "Requirement already satisfied: idna<4,>=2.5 in /usr/local/lib/python3.10/dist-packages (from requests) (3.6)\n",
            "Requirement already satisfied: urllib3<3,>=1.21.1 in /usr/local/lib/python3.10/dist-packages (from requests) (2.0.7)\n",
            "Requirement already satisfied: certifi>=2017.4.17 in /usr/local/lib/python3.10/dist-packages (from requests) (2024.2.2)\n",
            "Requirement already satisfied: python-dateutil>=2.8.1 in /usr/local/lib/python3.10/dist-packages (from pandas) (2.8.2)\n",
            "Requirement already satisfied: pytz>=2020.1 in /usr/local/lib/python3.10/dist-packages (from pandas) (2023.4)\n",
            "Requirement already satisfied: numpy>=1.21.0 in /usr/local/lib/python3.10/dist-packages (from pandas) (1.25.2)\n",
            "Requirement already satisfied: six>=1.5 in /usr/local/lib/python3.10/dist-packages (from python-dateutil>=2.8.1->pandas) (1.16.0)\n"
          ]
        }
      ],
      "source": [
        "!pip install requests pandas\n"
      ]
    },
    {
      "cell_type": "code",
      "source": [
        "import requests\n",
        "import pandas as pd\n",
        "\n",
        "# LEI codes extracted from your screenshot\n",
        "lei_codes = [\n",
        "    \"5493001KJTIIGC8Y1R12\",\n",
        "    \"549300MGXI00YQIIH675\",\n",
        "    \"549300WVXPY22QQFGR37\",\n",
        "    \"549300Z4S8S0KM28HX55\",\n",
        "    \"549300D8F4O0KRIKBK08\"\n",
        "]\n",
        "\n",
        "# Base URL for GLEIF API\n",
        "base_url = \"https://api.gleif.org/api/v1/lei-records/\"\n",
        "\n",
        "# Initialize a list to store the data\n",
        "data = []\n",
        "\n",
        "# Loop through each LEI code to fetch the data\n",
        "for lei in lei_codes:\n",
        "    # Construct the request URL\n",
        "    url = f\"{base_url}{lei}\"\n",
        "    response = requests.get(url)\n",
        "\n",
        "    # Check if the request was successful\n",
        "    if response.status_code == 200:\n",
        "        json_data = response.json()\n",
        "        # Extract required fields\n",
        "        legal_name = json_data['data']['attributes']['legalName']['name']\n",
        "        country = json_data['data']['attributes']['entity']['legalAddress']['country']\n",
        "        ultimate_parent = json_data['data']['attributes'].get('relationshipRecord', {}).get('ultimateParent', {}).get('id', 'N/A')\n",
        "        ultimate_parent_name = json_data['data']['attributes'].get('relationshipRecord', {}).get('ultimateParent', {}).get('name', 'N/A')\n",
        "\n",
        "        # Append the extracted data to the list\n",
        "        data.append([lei, legal_name, country, ultimate_parent, ultimate_parent_name])\n",
        "    else:\n",
        "        print(f\"Failed to retrieve data for LEI: {lei}\")\n",
        "\n",
        "# Create a DataFrame\n",
        "df = pd.DataFrame(data, columns=['LEI', 'Legal Name', 'Country', 'Ultimate Parent LEI', 'Ultimate Parent Name'])\n",
        "\n",
        "# Display the DataFrame\n",
        "print(df)\n"
      ],
      "metadata": {
        "colab": {
          "base_uri": "https://localhost:8080/",
          "height": 263
        },
        "id": "O4fyUqgskiea",
        "outputId": "6df4b905-b361-4622-e724-c2090b962746"
      },
      "execution_count": 2,
      "outputs": [
        {
          "output_type": "error",
          "ename": "KeyError",
          "evalue": "'legalName'",
          "traceback": [
            "\u001b[0;31m---------------------------------------------------------------------------\u001b[0m",
            "\u001b[0;31mKeyError\u001b[0m                                  Traceback (most recent call last)",
            "\u001b[0;32m<ipython-input-2-9f61b05dc5f9>\u001b[0m in \u001b[0;36m<cell line: 20>\u001b[0;34m()\u001b[0m\n\u001b[1;32m     27\u001b[0m         \u001b[0mjson_data\u001b[0m \u001b[0;34m=\u001b[0m \u001b[0mresponse\u001b[0m\u001b[0;34m.\u001b[0m\u001b[0mjson\u001b[0m\u001b[0;34m(\u001b[0m\u001b[0;34m)\u001b[0m\u001b[0;34m\u001b[0m\u001b[0;34m\u001b[0m\u001b[0m\n\u001b[1;32m     28\u001b[0m         \u001b[0;31m# Extract required fields\u001b[0m\u001b[0;34m\u001b[0m\u001b[0;34m\u001b[0m\u001b[0m\n\u001b[0;32m---> 29\u001b[0;31m         \u001b[0mlegal_name\u001b[0m \u001b[0;34m=\u001b[0m \u001b[0mjson_data\u001b[0m\u001b[0;34m[\u001b[0m\u001b[0;34m'data'\u001b[0m\u001b[0;34m]\u001b[0m\u001b[0;34m[\u001b[0m\u001b[0;34m'attributes'\u001b[0m\u001b[0;34m]\u001b[0m\u001b[0;34m[\u001b[0m\u001b[0;34m'legalName'\u001b[0m\u001b[0;34m]\u001b[0m\u001b[0;34m[\u001b[0m\u001b[0;34m'name'\u001b[0m\u001b[0;34m]\u001b[0m\u001b[0;34m\u001b[0m\u001b[0;34m\u001b[0m\u001b[0m\n\u001b[0m\u001b[1;32m     30\u001b[0m         \u001b[0mcountry\u001b[0m \u001b[0;34m=\u001b[0m \u001b[0mjson_data\u001b[0m\u001b[0;34m[\u001b[0m\u001b[0;34m'data'\u001b[0m\u001b[0;34m]\u001b[0m\u001b[0;34m[\u001b[0m\u001b[0;34m'attributes'\u001b[0m\u001b[0;34m]\u001b[0m\u001b[0;34m[\u001b[0m\u001b[0;34m'entity'\u001b[0m\u001b[0;34m]\u001b[0m\u001b[0;34m[\u001b[0m\u001b[0;34m'legalAddress'\u001b[0m\u001b[0;34m]\u001b[0m\u001b[0;34m[\u001b[0m\u001b[0;34m'country'\u001b[0m\u001b[0;34m]\u001b[0m\u001b[0;34m\u001b[0m\u001b[0;34m\u001b[0m\u001b[0m\n\u001b[1;32m     31\u001b[0m         \u001b[0multimate_parent\u001b[0m \u001b[0;34m=\u001b[0m \u001b[0mjson_data\u001b[0m\u001b[0;34m[\u001b[0m\u001b[0;34m'data'\u001b[0m\u001b[0;34m]\u001b[0m\u001b[0;34m[\u001b[0m\u001b[0;34m'attributes'\u001b[0m\u001b[0;34m]\u001b[0m\u001b[0;34m.\u001b[0m\u001b[0mget\u001b[0m\u001b[0;34m(\u001b[0m\u001b[0;34m'relationshipRecord'\u001b[0m\u001b[0;34m,\u001b[0m \u001b[0;34m{\u001b[0m\u001b[0;34m}\u001b[0m\u001b[0;34m)\u001b[0m\u001b[0;34m.\u001b[0m\u001b[0mget\u001b[0m\u001b[0;34m(\u001b[0m\u001b[0;34m'ultimateParent'\u001b[0m\u001b[0;34m,\u001b[0m \u001b[0;34m{\u001b[0m\u001b[0;34m}\u001b[0m\u001b[0;34m)\u001b[0m\u001b[0;34m.\u001b[0m\u001b[0mget\u001b[0m\u001b[0;34m(\u001b[0m\u001b[0;34m'id'\u001b[0m\u001b[0;34m,\u001b[0m \u001b[0;34m'N/A'\u001b[0m\u001b[0;34m)\u001b[0m\u001b[0;34m\u001b[0m\u001b[0;34m\u001b[0m\u001b[0m\n",
            "\u001b[0;31mKeyError\u001b[0m: 'legalName'"
          ]
        }
      ]
    },
    {
      "cell_type": "markdown",
      "source": [],
      "metadata": {
        "id": "kDycRIeKk8dM"
      }
    },
    {
      "cell_type": "code",
      "source": [
        "import requests\n",
        "import pandas as pd\n",
        "\n",
        "# LEI codes extracted from your screenshot\n",
        "lei_codes = [\n",
        "    \"5493001KJTIIGC8Y1R12\",\n",
        "    \"549300MGXI00YQIIH675\",\n",
        "    \"549300WVXPY22QQFGR37\",\n",
        "    \"549300Z4S8S0KM28HX55\",\n",
        "    \"549300D8F4O0KRIKBK08\"\n",
        "]\n",
        "\n",
        "# Base URL for GLEIF API\n",
        "base_url = \"https://api.gleif.org/api/v1/lei-records/\"\n",
        "\n",
        "# Initialize a list to store the data\n",
        "data = []\n",
        "\n",
        "# Loop through each LEI code to fetch the data\n",
        "for lei in lei_codes:\n",
        "    # Construct the request URL\n",
        "    url = f\"{base_url}{lei}\"\n",
        "    response = requests.get(url)\n",
        "\n",
        "    # Check if the request was successful\n",
        "    if response.status_code == 200:\n",
        "        json_data = response.json()\n",
        "\n",
        "        # Extract required fields using .get() to avoid KeyError\n",
        "        legal_name = json_data.get('data', {}).get('attributes', {}).get('legalName', {}).get('name', 'N/A')\n",
        "        country = json_data.get('data', {}).get('attributes', {}).get('entity', {}).get('legalAddress', {}).get('country', 'N/A')\n",
        "        ultimate_parent = json_data.get('data', {}).get('attributes', {}).get('relationshipRecord', {}).get('ultimateParent', {}).get('id', 'N/A')\n",
        "        ultimate_parent_name = json_data.get('data', {}).get('attributes', {}).get('relationshipRecord', {}).get('ultimateParent', {}).get('name', 'N/A')\n",
        "\n",
        "        # Append the extracted data to the list\n",
        "        data.append([lei, legal_name, country, ultimate_parent, ultimate_parent_name])\n",
        "    else:\n",
        "        print(f\"Failed to retrieve data for LEI: {lei}\")\n",
        "\n",
        "# Create a DataFrame\n",
        "df = pd.DataFrame(data, columns=['LEI', 'Legal Name', 'Country', 'Ultimate Parent LEI', 'Ultimate Parent Name'])\n",
        "\n",
        "# Display the DataFrame\n",
        "print(df)\n"
      ],
      "metadata": {
        "colab": {
          "base_uri": "https://localhost:8080/"
        },
        "id": "3YlhT2Cik7i0",
        "outputId": "b9794a79-66b4-4d71-e1a4-1a883b54302c"
      },
      "execution_count": 3,
      "outputs": [
        {
          "output_type": "stream",
          "name": "stdout",
          "text": [
            "Failed to retrieve data for LEI: 549300MGXI00YQIIH675\n",
            "Failed to retrieve data for LEI: 549300WVXPY22QQFGR37\n",
            "Failed to retrieve data for LEI: 549300Z4S8S0KM28HX55\n",
            "Failed to retrieve data for LEI: 549300D8F4O0KRIKBK08\n",
            "                    LEI Legal Name Country Ultimate Parent LEI  \\\n",
            "0  5493001KJTIIGC8Y1R12        N/A      US                 N/A   \n",
            "\n",
            "  Ultimate Parent Name  \n",
            "0                  N/A  \n"
          ]
        }
      ]
    }
  ]
}